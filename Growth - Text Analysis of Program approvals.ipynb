{
 "cells": [
  {
   "cell_type": "markdown",
   "metadata": {},
   "source": [
    "### Note: We are doing the long non-Pythonic way here, because the Fund system cannot import the textblob libraries.\n",
    "\n",
    "    from textblob import TextBlob, Word\n",
    "    from sklearn.model_selection import train_test_split\n",
    "    from sklearn.feature_extraction.text import CountVectorizer, TfidfVectorizer\n",
    "    from sklearn.naive_bayes import MultinomialNB\n",
    "    from sklearn.linear_model import LogisticRegression\n",
    "    from sklearn import metrics\n",
    "    from textblob import TextBlob, Word\n",
    "    from nltk.stem.snowball import SnowballStemmer\n",
    "    %matplotlib inline\n",
    "\n",
    "### Always restart the Kernel prior to running all.\n",
    "===="
   ]
  },
  {
   "cell_type": "markdown",
   "metadata": {},
   "source": [
    "## Set up the environment and loop over the files"
   ]
  },
  {
   "cell_type": "code",
   "execution_count": 23,
   "metadata": {},
   "outputs": [
    {
     "name": "stdout",
     "output_type": "stream",
     "text": [
      "Q:\\DATA\\SPRLP\\EM\\Review of Conditionality\\Literature\\Program approval SRs\\text format\n"
     ]
    }
   ],
   "source": [
    "cd \"Q:\\DATA\\SPRLP\\EM\\Review of Conditionality\\Literature\\Program approval SRs\\text format\""
   ]
  },
  {
   "cell_type": "code",
   "execution_count": 2,
   "metadata": {},
   "outputs": [
    {
     "name": "stdout",
     "output_type": "stream",
     "text": [
      "Q:\\DATA\\SPRLP\\EM\\Review of Conditionality\\Literature\\Program approval SRs\\text format\\test\n"
     ]
    }
   ],
   "source": [
    "#cd \"Q:\\DATA\\SPRLP\\EM\\Review of Conditionality\\Literature\\Program approval SRs\\text format\\test\""
   ]
  },
  {
   "cell_type": "code",
   "execution_count": 3,
   "metadata": {},
   "outputs": [
    {
     "name": "stderr",
     "output_type": "stream",
     "text": [
      "C:\\PROGRAM FILES\\Anaconda\\Anaconda3\\lib\\site-packages\\ipykernel_launcher.py:11: DeprecationWarning: The Windows bytes API has been deprecated, use Unicode filenames instead\n",
      "  # This is added back by InteractiveShellApp.init_path()\n"
     ]
    }
   ],
   "source": [
    "import pandas as pd\n",
    "import numpy as np\n",
    "import seaborn as sns\n",
    "import os\n",
    "\n",
    "#looping over the directory\n",
    "directory = os.fsencode('Q:\\\\DATA\\\\SPRLP\\\\EM\\\\Review of Conditionality\\\\Literature\\Program approval SRs\\\\text format')\n",
    "\n",
    "df=pd.DataFrame()\n",
    "\n",
    "for file in os.listdir(directory):\n",
    "    filename = os.fsdecode(file)\n",
    "    if filename.endswith(\".txt\"):\n",
    "        with open(filename, encoding = 'utf-8') as f:\n",
    "            list = [line.rstrip('\\n') for line in f]\n",
    "            temp= pd.DataFrame({'text':list})\n",
    "            temp['prog']=file\n",
    "        df=df.append(temp, ignore_index=True)                "
   ]
  },
  {
   "cell_type": "markdown",
   "metadata": {},
   "source": [
    "## Check the shape of the dataset"
   ]
  },
  {
   "cell_type": "code",
   "execution_count": 4,
   "metadata": {},
   "outputs": [
    {
     "name": "stdout",
     "output_type": "stream",
     "text": [
      "(38442, 2)\n"
     ]
    },
    {
     "data": {
      "text/html": [
       "<div>\n",
       "<style>\n",
       "    .dataframe thead tr:only-child th {\n",
       "        text-align: right;\n",
       "    }\n",
       "\n",
       "    .dataframe thead th {\n",
       "        text-align: left;\n",
       "    }\n",
       "\n",
       "    .dataframe tbody tr th {\n",
       "        vertical-align: top;\n",
       "    }\n",
       "</style>\n",
       "<table border=\"1\" class=\"dataframe\">\n",
       "  <thead>\n",
       "    <tr style=\"text-align: right;\">\n",
       "      <th></th>\n",
       "      <th>text</th>\n",
       "      <th>prog</th>\n",
       "    </tr>\n",
       "  </thead>\n",
       "  <tbody>\n",
       "    <tr>\n",
       "      <th>0</th>\n",
       "      <td>IMF Country Report No. 15/50</td>\n",
       "      <td>b'Serbia 2015 SBA - Copy.txt'</td>\n",
       "    </tr>\n",
       "    <tr>\n",
       "      <th>1</th>\n",
       "      <td></td>\n",
       "      <td>b'Serbia 2015 SBA - Copy.txt'</td>\n",
       "    </tr>\n",
       "    <tr>\n",
       "      <th>2</th>\n",
       "      <td>REPUBLIC OF SERBIA</td>\n",
       "      <td>b'Serbia 2015 SBA - Copy.txt'</td>\n",
       "    </tr>\n",
       "    <tr>\n",
       "      <th>3</th>\n",
       "      <td>February 2015</td>\n",
       "      <td>b'Serbia 2015 SBA - Copy.txt'</td>\n",
       "    </tr>\n",
       "    <tr>\n",
       "      <th>4</th>\n",
       "      <td></td>\n",
       "      <td>b'Serbia 2015 SBA - Copy.txt'</td>\n",
       "    </tr>\n",
       "  </tbody>\n",
       "</table>\n",
       "</div>"
      ],
      "text/plain": [
       "                           text                           prog\n",
       "0  IMF Country Report No. 15/50  b'Serbia 2015 SBA - Copy.txt'\n",
       "1                                b'Serbia 2015 SBA - Copy.txt'\n",
       "2            REPUBLIC OF SERBIA  b'Serbia 2015 SBA - Copy.txt'\n",
       "3                 February 2015  b'Serbia 2015 SBA - Copy.txt'\n",
       "4                                b'Serbia 2015 SBA - Copy.txt'"
      ]
     },
     "execution_count": 4,
     "metadata": {},
     "output_type": "execute_result"
    }
   ],
   "source": [
    "#Show head and tail to check what we have.\n",
    "print(df.shape)\n",
    "df.head()\n",
    "#df.tail()"
   ]
  },
  {
   "cell_type": "markdown",
   "metadata": {},
   "source": [
    "## Search for a keyword"
   ]
  },
  {
   "cell_type": "code",
   "execution_count": 5,
   "metadata": {},
   "outputs": [],
   "source": [
    "#Create a sub dataframe which contains the keywords.\n",
    "sub_df=df.loc[df.text.str.contains('multiplier')]"
   ]
  },
  {
   "cell_type": "code",
   "execution_count": 6,
   "metadata": {},
   "outputs": [
    {
     "name": "stdout",
     "output_type": "stream",
     "text": [
      "(151, 2)\n"
     ]
    },
    {
     "data": {
      "text/html": [
       "<div>\n",
       "<style>\n",
       "    .dataframe thead tr:only-child th {\n",
       "        text-align: right;\n",
       "    }\n",
       "\n",
       "    .dataframe thead th {\n",
       "        text-align: left;\n",
       "    }\n",
       "\n",
       "    .dataframe tbody tr th {\n",
       "        vertical-align: top;\n",
       "    }\n",
       "</style>\n",
       "<table border=\"1\" class=\"dataframe\">\n",
       "  <thead>\n",
       "    <tr style=\"text-align: right;\">\n",
       "      <th></th>\n",
       "      <th>text</th>\n",
       "      <th>prog</th>\n",
       "    </tr>\n",
       "  </thead>\n",
       "  <tbody>\n",
       "    <tr>\n",
       "      <th>80</th>\n",
       "      <td>potential and reduce fiscal risks.</td>\n",
       "      <td>b'Serbia 2015 SBA - Copy.txt'</td>\n",
       "    </tr>\n",
       "    <tr>\n",
       "      <th>721</th>\n",
       "      <td>(Percent of risk-weighted metric)</td>\n",
       "      <td>b'Serbia 2015 SBA - Copy.txt'</td>\n",
       "    </tr>\n",
       "    <tr>\n",
       "      <th>844</th>\n",
       "      <td>The outlook is subject to significant downside...</td>\n",
       "      <td>b'Serbia 2015 SBA - Copy.txt'</td>\n",
       "    </tr>\n",
       "    <tr>\n",
       "      <th>852</th>\n",
       "      <td>resistance. The realization of these risks wou...</td>\n",
       "      <td>b'Serbia 2015 SBA - Copy.txt'</td>\n",
       "    </tr>\n",
       "    <tr>\n",
       "      <th>1249</th>\n",
       "      <td>is needed to strengthen their financial positi...</td>\n",
       "      <td>b'Serbia 2015 SBA - Copy.txt'</td>\n",
       "    </tr>\n",
       "  </tbody>\n",
       "</table>\n",
       "</div>"
      ],
      "text/plain": [
       "                                                   text  \\\n",
       "80                   potential and reduce fiscal risks.   \n",
       "721                   (Percent of risk-weighted metric)   \n",
       "844   The outlook is subject to significant downside...   \n",
       "852   resistance. The realization of these risks wou...   \n",
       "1249  is needed to strengthen their financial positi...   \n",
       "\n",
       "                               prog  \n",
       "80    b'Serbia 2015 SBA - Copy.txt'  \n",
       "721   b'Serbia 2015 SBA - Copy.txt'  \n",
       "844   b'Serbia 2015 SBA - Copy.txt'  \n",
       "852   b'Serbia 2015 SBA - Copy.txt'  \n",
       "1249  b'Serbia 2015 SBA - Copy.txt'  "
      ]
     },
     "execution_count": 6,
     "metadata": {},
     "output_type": "execute_result"
    }
   ],
   "source": [
    "print(sub_df.shape)\n",
    "sub_df.head()"
   ]
  },
  {
   "cell_type": "code",
   "execution_count": 7,
   "metadata": {},
   "outputs": [
    {
     "name": "stdout",
     "output_type": "stream",
     "text": [
      "There are 151 lines in the text with the word\n"
     ]
    }
   ],
   "source": [
    "print('There are', len(sub_df), 'lines in the text with the word')"
   ]
  },
  {
   "cell_type": "code",
   "execution_count": 9,
   "metadata": {},
   "outputs": [
    {
     "data": {
      "text/html": [
       "<div>\n",
       "<style>\n",
       "    .dataframe thead tr:only-child th {\n",
       "        text-align: right;\n",
       "    }\n",
       "\n",
       "    .dataframe thead th {\n",
       "        text-align: left;\n",
       "    }\n",
       "\n",
       "    .dataframe tbody tr th {\n",
       "        vertical-align: top;\n",
       "    }\n",
       "</style>\n",
       "<table border=\"1\" class=\"dataframe\">\n",
       "  <thead>\n",
       "    <tr style=\"text-align: right;\">\n",
       "      <th></th>\n",
       "      <th>index</th>\n",
       "      <th>text</th>\n",
       "      <th>prog</th>\n",
       "    </tr>\n",
       "  </thead>\n",
       "  <tbody>\n",
       "    <tr>\n",
       "      <th>0</th>\n",
       "      <td>78</td>\n",
       "      <td>Structural reforms. Broad-based structural ref...</td>\n",
       "      <td>b'Serbia 2015 SBA - Copy.txt'</td>\n",
       "    </tr>\n",
       "    <tr>\n",
       "      <th>1</th>\n",
       "      <td>79</td>\n",
       "      <td>environment and resolve loss-making SOEs, shou...</td>\n",
       "      <td>b'Serbia 2015 SBA - Copy.txt'</td>\n",
       "    </tr>\n",
       "    <tr>\n",
       "      <th>2</th>\n",
       "      <td>80</td>\n",
       "      <td>potential and reduce fiscal risks.</td>\n",
       "      <td>b'Serbia 2015 SBA - Copy.txt'</td>\n",
       "    </tr>\n",
       "    <tr>\n",
       "      <th>3</th>\n",
       "      <td>81</td>\n",
       "      <td>Program modalities. The proposed program suppo...</td>\n",
       "      <td>b'Serbia 2015 SBA - Copy.txt'</td>\n",
       "    </tr>\n",
       "    <tr>\n",
       "      <th>4</th>\n",
       "      <td>82</td>\n",
       "      <td>policy goals to restore fiscal sustainability,...</td>\n",
       "      <td>b'Serbia 2015 SBA - Copy.txt'</td>\n",
       "    </tr>\n",
       "  </tbody>\n",
       "</table>\n",
       "</div>"
      ],
      "text/plain": [
       "   index                                               text  \\\n",
       "0     78  Structural reforms. Broad-based structural ref...   \n",
       "1     79  environment and resolve loss-making SOEs, shou...   \n",
       "2     80                 potential and reduce fiscal risks.   \n",
       "3     81  Program modalities. The proposed program suppo...   \n",
       "4     82  policy goals to restore fiscal sustainability,...   \n",
       "\n",
       "                            prog  \n",
       "0  b'Serbia 2015 SBA - Copy.txt'  \n",
       "1  b'Serbia 2015 SBA - Copy.txt'  \n",
       "2  b'Serbia 2015 SBA - Copy.txt'  \n",
       "3  b'Serbia 2015 SBA - Copy.txt'  \n",
       "4  b'Serbia 2015 SBA - Copy.txt'  "
      ]
     },
     "execution_count": 9,
     "metadata": {},
     "output_type": "execute_result"
    }
   ],
   "source": [
    "#Now show 2 lines before and after said word for context.\n",
    "#In array form: df.iloc[[511,512,513],:].values\n",
    "\n",
    "context_rows=[]\n",
    "for ind in sub_df.index:\n",
    "    context_rows.append(ind-2)\n",
    "    context_rows.append(ind-1)\n",
    "    context_rows.append(ind)\n",
    "    context_rows.append(ind+1)\n",
    "    context_rows.append(ind+2)\n",
    "\n",
    "search_res= pd.DataFrame(df.iloc[context_rows,:]).reset_index(drop=False)\n",
    "search_res.head()"
   ]
  },
  {
   "cell_type": "code",
   "execution_count": 20,
   "metadata": {},
   "outputs": [],
   "source": [
    "search_res['prog']=search_res['prog'].str.decode('utf-8')"
   ]
  },
  {
   "cell_type": "code",
   "execution_count": 21,
   "metadata": {},
   "outputs": [
    {
     "data": {
      "text/html": [
       "<div>\n",
       "<style>\n",
       "    .dataframe thead tr:only-child th {\n",
       "        text-align: right;\n",
       "    }\n",
       "\n",
       "    .dataframe thead th {\n",
       "        text-align: left;\n",
       "    }\n",
       "\n",
       "    .dataframe tbody tr th {\n",
       "        vertical-align: top;\n",
       "    }\n",
       "</style>\n",
       "<table border=\"1\" class=\"dataframe\">\n",
       "  <thead>\n",
       "    <tr style=\"text-align: right;\">\n",
       "      <th></th>\n",
       "      <th>index</th>\n",
       "      <th>text</th>\n",
       "      <th>prog</th>\n",
       "      <th>doc#</th>\n",
       "    </tr>\n",
       "  </thead>\n",
       "  <tbody>\n",
       "    <tr>\n",
       "      <th>0</th>\n",
       "      <td>78</td>\n",
       "      <td>Structural reforms. Broad-based structural ref...</td>\n",
       "      <td>Serbia 2015 SBA - Copy.txt</td>\n",
       "      <td>0</td>\n",
       "    </tr>\n",
       "    <tr>\n",
       "      <th>1</th>\n",
       "      <td>79</td>\n",
       "      <td>environment and resolve loss-making SOEs, shou...</td>\n",
       "      <td>Serbia 2015 SBA - Copy.txt</td>\n",
       "      <td>0</td>\n",
       "    </tr>\n",
       "    <tr>\n",
       "      <th>2</th>\n",
       "      <td>80</td>\n",
       "      <td>potential and reduce fiscal risks.</td>\n",
       "      <td>Serbia 2015 SBA - Copy.txt</td>\n",
       "      <td>0</td>\n",
       "    </tr>\n",
       "    <tr>\n",
       "      <th>3</th>\n",
       "      <td>81</td>\n",
       "      <td>Program modalities. The proposed program suppo...</td>\n",
       "      <td>Serbia 2015 SBA - Copy.txt</td>\n",
       "      <td>0</td>\n",
       "    </tr>\n",
       "    <tr>\n",
       "      <th>4</th>\n",
       "      <td>82</td>\n",
       "      <td>policy goals to restore fiscal sustainability,...</td>\n",
       "      <td>Serbia 2015 SBA - Copy.txt</td>\n",
       "      <td>0</td>\n",
       "    </tr>\n",
       "  </tbody>\n",
       "</table>\n",
       "</div>"
      ],
      "text/plain": [
       "   index                                               text  \\\n",
       "0     78  Structural reforms. Broad-based structural ref...   \n",
       "1     79  environment and resolve loss-making SOEs, shou...   \n",
       "2     80                 potential and reduce fiscal risks.   \n",
       "3     81  Program modalities. The proposed program suppo...   \n",
       "4     82  policy goals to restore fiscal sustainability,...   \n",
       "\n",
       "                         prog  doc#  \n",
       "0  Serbia 2015 SBA - Copy.txt     0  \n",
       "1  Serbia 2015 SBA - Copy.txt     0  \n",
       "2  Serbia 2015 SBA - Copy.txt     0  \n",
       "3  Serbia 2015 SBA - Copy.txt     0  \n",
       "4  Serbia 2015 SBA - Copy.txt     0  "
      ]
     },
     "execution_count": 21,
     "metadata": {},
     "output_type": "execute_result"
    }
   ],
   "source": [
    "#let's relabel\n",
    "re_index=[]\n",
    "for i in range(len(sub_df.index)):\n",
    "    re_index.append(i)\n",
    "    re_index.append(i)\n",
    "    re_index.append(i)\n",
    "    re_index.append(i)\n",
    "    re_index.append(i)\n",
    "    \n",
    "import numpy as np\n",
    "search_res['doc#'] = pd.DataFrame(np.column_stack([re_index]), columns=['count'])\n",
    "search_res.head()"
   ]
  },
  {
   "cell_type": "code",
   "execution_count": 22,
   "metadata": {},
   "outputs": [],
   "source": [
    "#Export results to Excel\n",
    "writer = pd.ExcelWriter('output.xlsx')\n",
    "search_res.to_excel(writer, 'Sheet1')\n",
    "writer.save()"
   ]
  },
  {
   "cell_type": "code",
   "execution_count": null,
   "metadata": {},
   "outputs": [],
   "source": []
  },
  {
   "cell_type": "code",
   "execution_count": null,
   "metadata": {},
   "outputs": [],
   "source": []
  },
  {
   "cell_type": "code",
   "execution_count": null,
   "metadata": {},
   "outputs": [],
   "source": []
  },
  {
   "cell_type": "code",
   "execution_count": null,
   "metadata": {},
   "outputs": [],
   "source": []
  },
  {
   "cell_type": "code",
   "execution_count": null,
   "metadata": {},
   "outputs": [],
   "source": []
  },
  {
   "cell_type": "code",
   "execution_count": null,
   "metadata": {},
   "outputs": [],
   "source": []
  },
  {
   "cell_type": "code",
   "execution_count": null,
   "metadata": {},
   "outputs": [],
   "source": []
  },
  {
   "cell_type": "code",
   "execution_count": null,
   "metadata": {},
   "outputs": [],
   "source": []
  },
  {
   "cell_type": "code",
   "execution_count": null,
   "metadata": {},
   "outputs": [],
   "source": []
  },
  {
   "cell_type": "code",
   "execution_count": null,
   "metadata": {},
   "outputs": [],
   "source": []
  },
  {
   "cell_type": "code",
   "execution_count": null,
   "metadata": {
    "collapsed": true
   },
   "outputs": [],
   "source": []
  }
 ],
 "metadata": {
  "kernelspec": {
   "display_name": "Python 3",
   "language": "python",
   "name": "python3"
  },
  "language_info": {
   "codemirror_mode": {
    "name": "ipython",
    "version": 3
   },
   "file_extension": ".py",
   "mimetype": "text/x-python",
   "name": "python",
   "nbconvert_exporter": "python",
   "pygments_lexer": "ipython3",
   "version": "3.5.3"
  }
 },
 "nbformat": 4,
 "nbformat_minor": 2
}
